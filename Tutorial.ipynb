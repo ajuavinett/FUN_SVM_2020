{
 "cells": [
  {
   "cell_type": "markdown",
   "metadata": {},
   "source": [
    "# Jupyter Notebooks for Teaching Neuroscience\n",
    "\n",
    "Welcome! In this notebook, we'll explore how to use Jupyter to run Python code, a few examples of simple demonstrations using this code, and some analysis of open access data available via the Allen Institute for Brain Science.\n",
    "\n",
    "### At the end of this notebook, you'll be able to:\n",
    "* Recognize the main features of Jupyter Notebooks\n",
    "* Edit and run code and markdown cells\n",
    "* Run several simple demonstrations of statistical concepts\n",
    "* Analyze data from the Allen Institute for Brain Science\n",
    "\n",
    "### Table of Contents\n",
    "1. [Part I. About Jupyter Notebooks](#one)\n",
    "2. [Part II. Using Markdown](#two)\n",
    "3. [Part III. Generate some plots](#three)\n",
    "\n",
    "<hr>"
   ]
  },
  {
   "cell_type": "markdown",
   "metadata": {},
   "source": [
    "## Setup\n",
    "Before we dive in, let's get this cell running. This cell will download the necessary components for working with the Allen Cell Types data (Step X).\n",
    "\n",
    "Run the cell below by clicking on it, and choosing the \"Run\" button above. Alternatively, you can press \"shift + enter.\""
   ]
  },
  {
   "cell_type": "code",
   "execution_count": 5,
   "metadata": {},
   "outputs": [],
   "source": [
    "# This code is going to check to make sure you have the necessary packages.\n",
    "try:\n",
    "    import allensdk, numpy, pandas, scipy\n",
    "except ImportError as e:\n",
    "    print('You need to install the AllenSDK.')"
   ]
  },
  {
   "cell_type": "code",
   "execution_count": null,
   "metadata": {},
   "outputs": [],
   "source": [
    "!pip install allensdk"
   ]
  },
  {
   "cell_type": "markdown",
   "metadata": {},
   "source": [
    "<a id=\"one\"></a>\n",
    "## Part I. About Jupyter Notebooks\n",
    "\n",
    "\n",
    "Jupyter notebooks are a way to combine executable code, code outputs, and text into one connected file. They run in a web browser, but don't require the internet (unless you're running it on a Jupyter Hub). \n",
    "\n",
    "The <b>'kernel'</b> is the thing that executes your code. It is what connects the notebook (as you see it) with the part of your computer, or the DataHub computers, that runs code.\n",
    "\n",
    "### Menu Options & Shortcuts\n",
    "To get a quick tour of the Jupyter user-interface, click on the 'Help' menu, then click 'User Interface Tour'. There are also a large number of useful keyboard shortcuts. Click on the 'Help' menu, and then 'Keyboard Shortcuts' to see a list.\n",
    "\n",
    "\n",
    "### Types of Cells\n",
    "Jupyter Notebooks have two types of cells, a <b>Markdown</b> (like this one) and <b>Code</b>. Most of the time you won't need to run the Markdown cells, just read through them. However, when we get to a code cell, you need to tell Jupyter to run the lines of code that it contains.\n",
    "\n",
    "Code cells will be read by the Python interpreter. In other words, the Python kernel will run whatever it recognizes as code within the cell.\n",
    "\n",
    "<span style=\"color:blue\">When you're in <b>Command mode</b>, cells are outlined in blue</span>. <span style=\"color:green\">When you're in <b>Edit mode</b>, blocks are outlined in green</span>.\n",
    "\n",
    "<div class=\"alert alert-success\"><b>Task:</b> Run the cell below!</div>"
   ]
  },
  {
   "cell_type": "code",
   "execution_count": null,
   "metadata": {
    "scrolled": true
   },
   "outputs": [],
   "source": [
    "# In Python, anything with a \"#\" in front of it is code annotation,\n",
    "# and is not read by the computer.\n",
    "# You can run a cell (this box) by pressing shift-enter.\n",
    "# Click in this cell and then press shift and enter simultaneously.\n",
    "# This print function below allows us to generate a message.\n",
    "print('Nice work!')"
   ]
  },
  {
   "cell_type": "markdown",
   "metadata": {},
   "source": [
    "<a id=\"two\"></a>\n",
    "## Part II. Using Markdown\n",
    "Markdown is useful because it can be formatted using simple symbols.\n",
    "* You can create bulleted lists using asterisks.\n",
    "* Similarly, you can create numbered lists using numbers.\n",
    "* You can **bold** with two asterisks or underscores on either side (`**bold**`) or *italicize* with one asterisk or underscore (`*italicize*`)\n",
    "* Pound signs (#) create headers. More pound signs means a smaller header.\n",
    "\n",
    "<div class=\"alert alert-success\"><b>Task:</b> Edit the markdown cell below with a quick biography of yourself. You should have your name as a big header, a short quippy subtitle for yourself as a smaller header, and a three bullet points that use both <b>bold</b> and <i>italic</i>.</div>"
   ]
  },
  {
   "cell_type": "markdown",
   "metadata": {},
   "source": [
    "Edit this markdown cell!"
   ]
  },
  {
   "cell_type": "markdown",
   "metadata": {},
   "source": [
    "<a id=\"three\"></a>\n",
    "## Part III: Generate some plots\n",
    "\n",
    "### Step 1. Import packages \n",
    "We can take advantage of pre-packaged code for many common functions in Python. But first, we need to tell Python to import it. This is a really common step for most Python code.\n",
    "\n",
    "We'll import a package called \"numpy\" and nickname it \"np\" and \"matplotlib.pyplot\" and nickname it \"plt.\" <b> Below, add \"as np\" after \"import numpy\" to instruct Python to import the numpy package but nickname it np. </b> When you see \"np\" in our script, it's actually calling scripts from the numpy package.\n",
    "\n",
    "After you import it, Python will print a message. Having printed messages like these is a really nice way to check that your cell actually ran."
   ]
  },
  {
   "cell_type": "code",
   "execution_count": null,
   "metadata": {},
   "outputs": [],
   "source": [
    "import numpy \n",
    "import matplotlib.pyplot as plt\n",
    "print('Imported packages')"
   ]
  },
  {
   "cell_type": "markdown",
   "metadata": {},
   "source": [
    "### Step 2: Create some random data to plot\n",
    "We'll use a function \"random.rand\" to create a random list of numbers. You decide on how long this list of numbers should be (anything between 5 to 100 is fine) by adding a value next to \"list_length\"."
   ]
  },
  {
   "cell_type": "code",
   "execution_count": null,
   "metadata": {},
   "outputs": [],
   "source": [
    "# Add your value next to list_length below.\n",
    "list_length = \n",
    "\n",
    "random_list = np.random.rand(list_length,1)\n",
    "print('Created a random list')"
   ]
  },
  {
   "cell_type": "markdown",
   "metadata": {},
   "source": [
    "Let's make sure Python did what we wanted it to do. Looks like it saved our random list as a variable. Check by typing the variable name into the next cell, and running it. If that worked, you should see an array of values."
   ]
  },
  {
   "cell_type": "code",
   "execution_count": null,
   "metadata": {},
   "outputs": [],
   "source": []
  },
  {
   "cell_type": "markdown",
   "metadata": {},
   "source": [
    "### Step 3: Plot your data\n",
    "Let's pretend this is data from an awesome experiment we ran. We need to plot the data. We already imported a package \"matplotlib.pyplot\" as \"plt\" above to help us plot the data. We'll then use the \"plot\" function to plot our random list."
   ]
  },
  {
   "cell_type": "code",
   "execution_count": null,
   "metadata": {
    "scrolled": true
   },
   "outputs": [],
   "source": [
    "# plot is matploblib's basic plotting function\n",
    "# below, we're asking it to plot the random_list we just created\n",
    "plt.plot(random_list)\n",
    "\n",
    "# this is where you can add additional changes to your plot\n",
    "\n",
    "# plt.show() will show our plot below\n",
    "plt.show()"
   ]
  },
  {
   "cell_type": "markdown",
   "metadata": {},
   "source": [
    "\n",
    "<div class=\"alert alert-success\"><b>Tasks:</b>\n",
    "    \n",
    "1. Add axes to your plots by adding <code>plt.xlabel('yourxlabelhere')</code> and <code>plt.ylabel('yourylabel')</code>. Add those above <i>before</i> <code>plt.show()</code>.\n",
    "\n",
    "2. Add some markers to your line! Do this by adding an additional argument to <code>plt.plot(random_list)</code>, so that it says <code>plt.plot(random_list, marker =\"o\")</code>. <a href=\"https://matplotlib.org/api/markers_api.html\">You can add various markers of your choosing!</a>.</div>"
   ]
  },
  {
   "cell_type": "markdown",
   "metadata": {},
   "source": [
    "### Step 4: Add some more data\n",
    "\n",
    "Let's create another random list and create a scatterplot of the data. In the box below, create a list named \"random_list_2\" of the same length as your first list."
   ]
  },
  {
   "cell_type": "code",
   "execution_count": null,
   "metadata": {},
   "outputs": [],
   "source": []
  },
  {
   "cell_type": "markdown",
   "metadata": {},
   "source": [
    "In the box below, make a scatterplot of your data using the matplotlib's scatter function. Remember that we imported `matplotlib.pyplot` as `plt`. You can find documentation on the scatter function <a href=\"https://matplotlib.org/api/_as_gen/matplotlib.pyplot.scatter.html\">here</a> or <a href=\"https://matplotlib.org/gallery/lines_bars_and_markers/scatter_symbol.html#sphx-glr-gallery-lines-bars-and-markers-scatter-symbol-py\">here (for more fun)</a>."
   ]
  },
  {
   "cell_type": "code",
   "execution_count": null,
   "metadata": {},
   "outputs": [],
   "source": []
  },
  {
   "cell_type": "markdown",
   "metadata": {},
   "source": [
    "### Step 5: Celebrate\n",
    "That's the Jupyter Notebook tutorial! You're ready to tackle more complex notebooks. Close this window to go back to your Jupyter Notebook landing page."
   ]
  },
  {
   "cell_type": "code",
   "execution_count": null,
   "metadata": {},
   "outputs": [],
   "source": [
    "from IPython.display import HTML\n",
    "HTML('<img src=\"https://media.giphy.com/media/l0MYt5jPR6QX5pnqM/giphy.gif\">')"
   ]
  },
  {
   "cell_type": "markdown",
   "metadata": {},
   "source": [
    "## Resources\n",
    "For additional Jupyter Notebook information and practice, see [this tutorial](https://www.dataquest.io/blog/jupyter-notebook-tutorial/) from DataQuest. \n",
    "\n",
    "## About this Notebook\n",
    "This notebook was created by [Ashley Juavinett](https://github.com/ajuavinett) for classes at UC San Diego."
   ]
  }
 ],
 "metadata": {
  "kernelspec": {
   "display_name": "Python 3",
   "language": "python",
   "name": "python3"
  },
  "language_info": {
   "codemirror_mode": {
    "name": "ipython",
    "version": 3
   },
   "file_extension": ".py",
   "mimetype": "text/x-python",
   "name": "python",
   "nbconvert_exporter": "python",
   "pygments_lexer": "ipython3",
   "version": "3.7.3"
  }
 },
 "nbformat": 4,
 "nbformat_minor": 2
}
